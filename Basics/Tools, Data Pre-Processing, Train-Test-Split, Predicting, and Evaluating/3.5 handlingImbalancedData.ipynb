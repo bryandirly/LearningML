{
 "cells": [
  {
   "cell_type": "markdown",
   "id": "2a5ddc37",
   "metadata": {},
   "source": [
    "**Imbalanced Dataset**:  \n",
    "A dataset with unequal class distribution."
   ]
  },
  {
   "cell_type": "code",
   "execution_count": 1,
   "id": "a401617e",
   "metadata": {},
   "outputs": [],
   "source": [
    "import pandas as pd\n",
    "import numpy as np\n",
    "from sklearn.model_selection import train_test_split\n"
   ]
  },
  {
   "cell_type": "code",
   "execution_count": 4,
   "id": "36b47bd2",
   "metadata": {},
   "outputs": [],
   "source": [
    "train = pd.read_csv('train.csv')\n",
    "target = pd.read_csv('target.csv')"
   ]
  },
  {
   "cell_type": "code",
   "execution_count": 5,
   "id": "bb16f5ff",
   "metadata": {},
   "outputs": [],
   "source": [
    "df = pd.concat([train, target], axis=1)"
   ]
  },
  {
   "cell_type": "code",
   "execution_count": 8,
   "id": "fd3aea1a",
   "metadata": {},
   "outputs": [
    {
     "data": {
      "text/plain": [
       "coppaRisk\n",
       "False    6304\n",
       "True      696\n",
       "Name: count, dtype: int64"
      ]
     },
     "execution_count": 8,
     "metadata": {},
     "output_type": "execute_result"
    }
   ],
   "source": [
    "df['coppaRisk'].value_counts()"
   ]
  },
  {
   "cell_type": "markdown",
   "id": "6031ea6d",
   "metadata": {},
   "source": [
    "As we can see the false and true distribution is imbalanced, we need to rebalance it with the method I show below."
   ]
  },
  {
   "cell_type": "code",
   "execution_count": 10,
   "id": "7d59181d",
   "metadata": {},
   "outputs": [
    {
     "name": "stdout",
     "output_type": "stream",
     "text": [
      "(6304, 17) (696, 17)\n"
     ]
    }
   ],
   "source": [
    "safe = df[df['coppaRisk'] == False]\n",
    "unsafe = df[df['coppaRisk'] == True]\n",
    "print(safe.shape, unsafe.shape)"
   ]
  },
  {
   "cell_type": "code",
   "execution_count": 11,
   "id": "4032c288",
   "metadata": {},
   "outputs": [
    {
     "name": "stdout",
     "output_type": "stream",
     "text": [
      "(696, 17) (696, 17)\n"
     ]
    }
   ],
   "source": [
    "safe_sample = safe.sample(unsafe.shape[0], random_state=42)\n",
    "print(safe_sample.shape, unsafe.shape)"
   ]
  },
  {
   "cell_type": "code",
   "execution_count": 12,
   "id": "113999be",
   "metadata": {},
   "outputs": [
    {
     "name": "stdout",
     "output_type": "stream",
     "text": [
      "coppaRisk\n",
      "False    696\n",
      "True     696\n",
      "Name: count, dtype: int64\n"
     ]
    }
   ],
   "source": [
    "balanced_df = pd.concat([safe_sample, unsafe], axis=0)\n",
    "print(balanced_df['coppaRisk'].value_counts())"
   ]
  },
  {
   "cell_type": "markdown",
   "id": "cc0f71b5",
   "metadata": {},
   "source": [
    "It's all balanced now!"
   ]
  },
  {
   "cell_type": "markdown",
   "id": "234916f0",
   "metadata": {},
   "source": []
  }
 ],
 "metadata": {
  "kernelspec": {
   "display_name": "Python 3",
   "language": "python",
   "name": "python3"
  },
  "language_info": {
   "codemirror_mode": {
    "name": "ipython",
    "version": 3
   },
   "file_extension": ".py",
   "mimetype": "text/x-python",
   "name": "python",
   "nbconvert_exporter": "python",
   "pygments_lexer": "ipython3",
   "version": "3.12.3"
  }
 },
 "nbformat": 4,
 "nbformat_minor": 5
}
