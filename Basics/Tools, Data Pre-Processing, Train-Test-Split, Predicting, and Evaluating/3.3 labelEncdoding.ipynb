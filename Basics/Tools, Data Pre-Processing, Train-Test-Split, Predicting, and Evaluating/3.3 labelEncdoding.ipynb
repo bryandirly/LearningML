{
 "cells": [
  {
   "cell_type": "markdown",
   "id": "60a8c36d",
   "metadata": {},
   "source": [
    "Label Encoding:\n",
    "\n",
    "- Converting the labels into numeric form"
   ]
  },
  {
   "cell_type": "code",
   "execution_count": 39,
   "id": "9cd04584",
   "metadata": {},
   "outputs": [],
   "source": [
    "import pandas as pd\n",
    "import numpy as np\n",
    "from sklearn.preprocessing import LabelEncoder\n",
    "\n"
   ]
  },
  {
   "cell_type": "code",
   "execution_count": 40,
   "id": "7ffc487c",
   "metadata": {},
   "outputs": [
    {
     "data": {
      "text/html": [
       "<div>\n",
       "<style scoped>\n",
       "    .dataframe tbody tr th:only-of-type {\n",
       "        vertical-align: middle;\n",
       "    }\n",
       "\n",
       "    .dataframe tbody tr th {\n",
       "        vertical-align: top;\n",
       "    }\n",
       "\n",
       "    .dataframe thead th {\n",
       "        text-align: right;\n",
       "    }\n",
       "</style>\n",
       "<table border=\"1\" class=\"dataframe\">\n",
       "  <thead>\n",
       "    <tr style=\"text-align: right;\">\n",
       "      <th></th>\n",
       "      <th>developerCountry</th>\n",
       "      <th>countryCode</th>\n",
       "      <th>userRatingCount</th>\n",
       "      <th>primaryGenreName</th>\n",
       "      <th>downloads</th>\n",
       "      <th>deviceType</th>\n",
       "      <th>hasPrivacyLink</th>\n",
       "      <th>hasTermsOfServiceLink</th>\n",
       "      <th>hasTermsOfServiceLinkRating</th>\n",
       "      <th>isCorporateEmailScore</th>\n",
       "      <th>adSpent</th>\n",
       "      <th>appAge</th>\n",
       "      <th>averageUserRating</th>\n",
       "      <th>appContentBrandSafetyRating</th>\n",
       "      <th>appDescriptionBrandSafetyRating</th>\n",
       "      <th>mfaRating</th>\n",
       "    </tr>\n",
       "  </thead>\n",
       "  <tbody>\n",
       "    <tr>\n",
       "      <th>0</th>\n",
       "      <td>NORWAY</td>\n",
       "      <td>RO</td>\n",
       "      <td>127731</td>\n",
       "      <td>Sports</td>\n",
       "      <td>NaN</td>\n",
       "      <td>smartphone</td>\n",
       "      <td>True</td>\n",
       "      <td>True</td>\n",
       "      <td>low</td>\n",
       "      <td>99.0</td>\n",
       "      <td>14.017220</td>\n",
       "      <td>160.400000</td>\n",
       "      <td>4.0</td>\n",
       "      <td>medium</td>\n",
       "      <td>low</td>\n",
       "      <td>low</td>\n",
       "    </tr>\n",
       "    <tr>\n",
       "      <th>1</th>\n",
       "      <td>ADDRESS NOT LISTED IN PLAYSTORE</td>\n",
       "      <td>GLOBAL</td>\n",
       "      <td>0</td>\n",
       "      <td>Medical</td>\n",
       "      <td>50 - 100</td>\n",
       "      <td>GLOBAL</td>\n",
       "      <td>True</td>\n",
       "      <td>NaN</td>\n",
       "      <td>NaN</td>\n",
       "      <td>99.0</td>\n",
       "      <td>NaN</td>\n",
       "      <td>17.500000</td>\n",
       "      <td>0.0</td>\n",
       "      <td>NaN</td>\n",
       "      <td>low</td>\n",
       "      <td>low</td>\n",
       "    </tr>\n",
       "    <tr>\n",
       "      <th>2</th>\n",
       "      <td>UNITED ARAB EMIRATES</td>\n",
       "      <td>CZ</td>\n",
       "      <td>51143</td>\n",
       "      <td>Games</td>\n",
       "      <td>50000000 - 100000000</td>\n",
       "      <td>GLOBAL</td>\n",
       "      <td>True</td>\n",
       "      <td>True</td>\n",
       "      <td>low</td>\n",
       "      <td>0.0</td>\n",
       "      <td>31.883163</td>\n",
       "      <td>30.766667</td>\n",
       "      <td>4.0</td>\n",
       "      <td>NaN</td>\n",
       "      <td>low</td>\n",
       "      <td>low</td>\n",
       "    </tr>\n",
       "    <tr>\n",
       "      <th>3</th>\n",
       "      <td>GERMANY</td>\n",
       "      <td>GLOBAL</td>\n",
       "      <td>1074</td>\n",
       "      <td>Games</td>\n",
       "      <td>NaN</td>\n",
       "      <td>GLOBAL</td>\n",
       "      <td>True</td>\n",
       "      <td>NaN</td>\n",
       "      <td>NaN</td>\n",
       "      <td>99.0</td>\n",
       "      <td>NaN</td>\n",
       "      <td>71.533333</td>\n",
       "      <td>4.0</td>\n",
       "      <td>NaN</td>\n",
       "      <td>low</td>\n",
       "      <td>low</td>\n",
       "    </tr>\n",
       "    <tr>\n",
       "      <th>4</th>\n",
       "      <td>CANNOT IDENTIFY COUNTRY</td>\n",
       "      <td>GLOBAL</td>\n",
       "      <td>17</td>\n",
       "      <td>Tools</td>\n",
       "      <td>1000 - 5000</td>\n",
       "      <td>GLOBAL</td>\n",
       "      <td>True</td>\n",
       "      <td>NaN</td>\n",
       "      <td>NaN</td>\n",
       "      <td>99.0</td>\n",
       "      <td>NaN</td>\n",
       "      <td>52.400000</td>\n",
       "      <td>4.0</td>\n",
       "      <td>NaN</td>\n",
       "      <td>low</td>\n",
       "      <td>low</td>\n",
       "    </tr>\n",
       "  </tbody>\n",
       "</table>\n",
       "</div>"
      ],
      "text/plain": [
       "                  developerCountry countryCode  userRatingCount  \\\n",
       "0                           NORWAY          RO           127731   \n",
       "1  ADDRESS NOT LISTED IN PLAYSTORE      GLOBAL                0   \n",
       "2             UNITED ARAB EMIRATES          CZ            51143   \n",
       "3                          GERMANY      GLOBAL             1074   \n",
       "4          CANNOT IDENTIFY COUNTRY      GLOBAL               17   \n",
       "\n",
       "  primaryGenreName             downloads  deviceType hasPrivacyLink  \\\n",
       "0           Sports                   NaN  smartphone           True   \n",
       "1          Medical              50 - 100      GLOBAL           True   \n",
       "2            Games  50000000 - 100000000      GLOBAL           True   \n",
       "3            Games                   NaN      GLOBAL           True   \n",
       "4            Tools           1000 - 5000      GLOBAL           True   \n",
       "\n",
       "  hasTermsOfServiceLink hasTermsOfServiceLinkRating  isCorporateEmailScore  \\\n",
       "0                  True                         low                   99.0   \n",
       "1                   NaN                         NaN                   99.0   \n",
       "2                  True                         low                    0.0   \n",
       "3                   NaN                         NaN                   99.0   \n",
       "4                   NaN                         NaN                   99.0   \n",
       "\n",
       "     adSpent      appAge  averageUserRating appContentBrandSafetyRating  \\\n",
       "0  14.017220  160.400000                4.0                      medium   \n",
       "1        NaN   17.500000                0.0                         NaN   \n",
       "2  31.883163   30.766667                4.0                         NaN   \n",
       "3        NaN   71.533333                4.0                         NaN   \n",
       "4        NaN   52.400000                4.0                         NaN   \n",
       "\n",
       "  appDescriptionBrandSafetyRating mfaRating  \n",
       "0                             low       low  \n",
       "1                             low       low  \n",
       "2                             low       low  \n",
       "3                             low       low  \n",
       "4                             low       low  "
      ]
     },
     "execution_count": 40,
     "metadata": {},
     "output_type": "execute_result"
    }
   ],
   "source": [
    "df = pd.read_csv('train.csv')\n",
    "df.head()"
   ]
  },
  {
   "cell_type": "markdown",
   "id": "a3d404de",
   "metadata": {},
   "source": [
    "Label Encoding of 'train.csv'."
   ]
  },
  {
   "cell_type": "code",
   "execution_count": 41,
   "id": "b1ddbf0a",
   "metadata": {},
   "outputs": [
    {
     "name": "stdout",
     "output_type": "stream",
     "text": [
      "0\n",
      "appDescriptionBrandSafetyRating\n",
      "low       5652\n",
      "medium     754\n",
      "high       594\n",
      "Name: count, dtype: int64\n"
     ]
    },
    {
     "data": {
      "text/plain": [
       "array(['low', 'high', 'medium'], dtype=object)"
      ]
     },
     "execution_count": 41,
     "metadata": {},
     "output_type": "execute_result"
    }
   ],
   "source": [
    "print(df['appDescriptionBrandSafetyRating'].isnull().sum())\n",
    "print(df['appDescriptionBrandSafetyRating'].value_counts())\n",
    "df['appDescriptionBrandSafetyRating'].unique()"
   ]
  },
  {
   "cell_type": "code",
   "execution_count": 42,
   "id": "213c5af7",
   "metadata": {},
   "outputs": [],
   "source": [
    "# Load the Label Encoder function\n",
    "label_encoder = LabelEncoder()"
   ]
  },
  {
   "cell_type": "code",
   "execution_count": 43,
   "id": "d55b9848",
   "metadata": {},
   "outputs": [],
   "source": [
    "labels = label_encoder.fit_transform(df['appDescriptionBrandSafetyRating'])"
   ]
  },
  {
   "cell_type": "code",
   "execution_count": 44,
   "id": "dd46a71d",
   "metadata": {},
   "outputs": [
    {
     "name": "stdout",
     "output_type": "stream",
     "text": [
      "Unique:\n",
      " [1 0 2]\n",
      "\n",
      "Value Counts:\n",
      " target\n",
      "1    5652\n",
      "2     754\n",
      "0     594\n",
      "Name: count, dtype: int64\n",
      "\n"
     ]
    },
    {
     "data": {
      "text/plain": [
       "0    1\n",
       "1    1\n",
       "2    1\n",
       "3    1\n",
       "4    1\n",
       "Name: target, dtype: int32"
      ]
     },
     "execution_count": 44,
     "metadata": {},
     "output_type": "execute_result"
    }
   ],
   "source": [
    "# Assign labels to the column\n",
    "df['target'] = labels\n",
    "\n",
    "# Print unique values in the column\n",
    "print(\"Unique:\\n\", df['target'].unique(), end='\\n\\n')\n",
    "\n",
    "# Print value counts for each unique value\n",
    "print(\"Value Counts:\\n\", df['target'].value_counts(), end='\\n\\n')\n",
    "\n",
    "# Display the column (this will show the Series)\n",
    "df['target'].head()"
   ]
  },
  {
   "cell_type": "code",
   "execution_count": 45,
   "id": "20386030",
   "metadata": {},
   "outputs": [
    {
     "name": "stdout",
     "output_type": "stream",
     "text": [
      "\n",
      "LabelEncoder classes:\n",
      "0 → 'high'\n",
      "1 → 'low'\n",
      "2 → 'medium'\n"
     ]
    }
   ],
   "source": [
    "print(\"\\nLabelEncoder classes:\")\n",
    "for i, class_ in enumerate(label_encoder.classes_):\n",
    "    print(f\"{i} → '{class_}'\")"
   ]
  },
  {
   "cell_type": "code",
   "execution_count": 53,
   "id": "fe3dadd1",
   "metadata": {},
   "outputs": [
    {
     "name": "stdout",
     "output_type": "stream",
     "text": [
      "\n",
      "Unique Value Encoding:\n",
      "'high' → 0\n",
      "'low' → 1\n",
      "'medium' → 2\n"
     ]
    }
   ],
   "source": [
    "mapping_dict = dict(sorted(dict(zip(df['appDescriptionBrandSafetyRating'], df['target'])).items(), key=lambda x: x[1]))\n",
    "\n",
    "print(\"\\nUnique Value Encoding:\")\n",
    "for original, encoded in mapping_dict.items():\n",
    "    print(f\"'{original}' → {encoded}\")"
   ]
  },
  {
   "cell_type": "markdown",
   "id": "81430e8d",
   "metadata": {},
   "source": [
    "The encoding process is sorted in alphabetical order as high < low < medium."
   ]
  },
  {
   "cell_type": "code",
   "execution_count": null,
   "id": "e4f661e7",
   "metadata": {},
   "outputs": [],
   "source": []
  }
 ],
 "metadata": {
  "kernelspec": {
   "display_name": "Python 3",
   "language": "python",
   "name": "python3"
  },
  "language_info": {
   "codemirror_mode": {
    "name": "ipython",
    "version": 3
   },
   "file_extension": ".py",
   "mimetype": "text/x-python",
   "name": "python",
   "nbconvert_exporter": "python",
   "pygments_lexer": "ipython3",
   "version": "3.12.3"
  }
 },
 "nbformat": 4,
 "nbformat_minor": 5
}
