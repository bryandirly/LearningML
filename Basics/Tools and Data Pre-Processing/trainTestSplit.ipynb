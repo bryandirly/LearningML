{
 "cells": [
  {
   "cell_type": "markdown",
   "id": "7a14e91f",
   "metadata": {},
   "source": [
    "Training and Testing Data\n",
    "\n",
    "Usually in predicting we split the data into 2 section:\n",
    "1. Training\n",
    "2. Testing\n",
    "\n",
    "Why we split data?  \n",
    "Because we don't want a model is being evaluated with a data that it already has seen."
   ]
  },
  {
   "cell_type": "code",
   "execution_count": 4,
   "id": "6bf7f874",
   "metadata": {},
   "outputs": [],
   "source": [
    "import pandas as pd\n",
    "import numpy as np\n",
    "from sklearn.model_selection import train_test_split\n",
    "from sklearn.preprocessing import StandardScaler\n",
    "from sklearn import svm\n",
    "from sklearn.metrics import accuracy_score"
   ]
  },
  {
   "cell_type": "code",
   "execution_count": 6,
   "id": "050f2e3f",
   "metadata": {},
   "outputs": [
    {
     "data": {
      "text/html": [
       "<div>\n",
       "<style scoped>\n",
       "    .dataframe tbody tr th:only-of-type {\n",
       "        vertical-align: middle;\n",
       "    }\n",
       "\n",
       "    .dataframe tbody tr th {\n",
       "        vertical-align: top;\n",
       "    }\n",
       "\n",
       "    .dataframe thead th {\n",
       "        text-align: right;\n",
       "    }\n",
       "</style>\n",
       "<table border=\"1\" class=\"dataframe\">\n",
       "  <thead>\n",
       "    <tr style=\"text-align: right;\">\n",
       "      <th></th>\n",
       "      <th>developerCountry</th>\n",
       "      <th>countryCode</th>\n",
       "      <th>userRatingCount</th>\n",
       "      <th>primaryGenreName</th>\n",
       "      <th>downloads</th>\n",
       "      <th>deviceType</th>\n",
       "      <th>hasPrivacyLink</th>\n",
       "      <th>hasTermsOfServiceLink</th>\n",
       "      <th>hasTermsOfServiceLinkRating</th>\n",
       "      <th>isCorporateEmailScore</th>\n",
       "      <th>adSpent</th>\n",
       "      <th>appAge</th>\n",
       "      <th>averageUserRating</th>\n",
       "      <th>appContentBrandSafetyRating</th>\n",
       "      <th>appDescriptionBrandSafetyRating</th>\n",
       "      <th>mfaRating</th>\n",
       "    </tr>\n",
       "  </thead>\n",
       "  <tbody>\n",
       "    <tr>\n",
       "      <th>0</th>\n",
       "      <td>NORWAY</td>\n",
       "      <td>RO</td>\n",
       "      <td>127731</td>\n",
       "      <td>Sports</td>\n",
       "      <td>NaN</td>\n",
       "      <td>smartphone</td>\n",
       "      <td>True</td>\n",
       "      <td>True</td>\n",
       "      <td>low</td>\n",
       "      <td>99.0</td>\n",
       "      <td>14.017220</td>\n",
       "      <td>160.400000</td>\n",
       "      <td>4.0</td>\n",
       "      <td>medium</td>\n",
       "      <td>low</td>\n",
       "      <td>low</td>\n",
       "    </tr>\n",
       "    <tr>\n",
       "      <th>1</th>\n",
       "      <td>ADDRESS NOT LISTED IN PLAYSTORE</td>\n",
       "      <td>GLOBAL</td>\n",
       "      <td>0</td>\n",
       "      <td>Medical</td>\n",
       "      <td>50 - 100</td>\n",
       "      <td>GLOBAL</td>\n",
       "      <td>True</td>\n",
       "      <td>NaN</td>\n",
       "      <td>NaN</td>\n",
       "      <td>99.0</td>\n",
       "      <td>NaN</td>\n",
       "      <td>17.500000</td>\n",
       "      <td>0.0</td>\n",
       "      <td>NaN</td>\n",
       "      <td>low</td>\n",
       "      <td>low</td>\n",
       "    </tr>\n",
       "    <tr>\n",
       "      <th>2</th>\n",
       "      <td>UNITED ARAB EMIRATES</td>\n",
       "      <td>CZ</td>\n",
       "      <td>51143</td>\n",
       "      <td>Games</td>\n",
       "      <td>50000000 - 100000000</td>\n",
       "      <td>GLOBAL</td>\n",
       "      <td>True</td>\n",
       "      <td>True</td>\n",
       "      <td>low</td>\n",
       "      <td>0.0</td>\n",
       "      <td>31.883163</td>\n",
       "      <td>30.766667</td>\n",
       "      <td>4.0</td>\n",
       "      <td>NaN</td>\n",
       "      <td>low</td>\n",
       "      <td>low</td>\n",
       "    </tr>\n",
       "    <tr>\n",
       "      <th>3</th>\n",
       "      <td>GERMANY</td>\n",
       "      <td>GLOBAL</td>\n",
       "      <td>1074</td>\n",
       "      <td>Games</td>\n",
       "      <td>NaN</td>\n",
       "      <td>GLOBAL</td>\n",
       "      <td>True</td>\n",
       "      <td>NaN</td>\n",
       "      <td>NaN</td>\n",
       "      <td>99.0</td>\n",
       "      <td>NaN</td>\n",
       "      <td>71.533333</td>\n",
       "      <td>4.0</td>\n",
       "      <td>NaN</td>\n",
       "      <td>low</td>\n",
       "      <td>low</td>\n",
       "    </tr>\n",
       "    <tr>\n",
       "      <th>4</th>\n",
       "      <td>CANNOT IDENTIFY COUNTRY</td>\n",
       "      <td>GLOBAL</td>\n",
       "      <td>17</td>\n",
       "      <td>Tools</td>\n",
       "      <td>1000 - 5000</td>\n",
       "      <td>GLOBAL</td>\n",
       "      <td>True</td>\n",
       "      <td>NaN</td>\n",
       "      <td>NaN</td>\n",
       "      <td>99.0</td>\n",
       "      <td>NaN</td>\n",
       "      <td>52.400000</td>\n",
       "      <td>4.0</td>\n",
       "      <td>NaN</td>\n",
       "      <td>low</td>\n",
       "      <td>low</td>\n",
       "    </tr>\n",
       "  </tbody>\n",
       "</table>\n",
       "</div>"
      ],
      "text/plain": [
       "                  developerCountry countryCode  userRatingCount  \\\n",
       "0                           NORWAY          RO           127731   \n",
       "1  ADDRESS NOT LISTED IN PLAYSTORE      GLOBAL                0   \n",
       "2             UNITED ARAB EMIRATES          CZ            51143   \n",
       "3                          GERMANY      GLOBAL             1074   \n",
       "4          CANNOT IDENTIFY COUNTRY      GLOBAL               17   \n",
       "\n",
       "  primaryGenreName             downloads  deviceType hasPrivacyLink  \\\n",
       "0           Sports                   NaN  smartphone           True   \n",
       "1          Medical              50 - 100      GLOBAL           True   \n",
       "2            Games  50000000 - 100000000      GLOBAL           True   \n",
       "3            Games                   NaN      GLOBAL           True   \n",
       "4            Tools           1000 - 5000      GLOBAL           True   \n",
       "\n",
       "  hasTermsOfServiceLink hasTermsOfServiceLinkRating  isCorporateEmailScore  \\\n",
       "0                  True                         low                   99.0   \n",
       "1                   NaN                         NaN                   99.0   \n",
       "2                  True                         low                    0.0   \n",
       "3                   NaN                         NaN                   99.0   \n",
       "4                   NaN                         NaN                   99.0   \n",
       "\n",
       "     adSpent      appAge  averageUserRating appContentBrandSafetyRating  \\\n",
       "0  14.017220  160.400000                4.0                      medium   \n",
       "1        NaN   17.500000                0.0                         NaN   \n",
       "2  31.883163   30.766667                4.0                         NaN   \n",
       "3        NaN   71.533333                4.0                         NaN   \n",
       "4        NaN   52.400000                4.0                         NaN   \n",
       "\n",
       "  appDescriptionBrandSafetyRating mfaRating  \n",
       "0                             low       low  \n",
       "1                             low       low  \n",
       "2                             low       low  \n",
       "3                             low       low  \n",
       "4                             low       low  "
      ]
     },
     "execution_count": 6,
     "metadata": {},
     "output_type": "execute_result"
    }
   ],
   "source": [
    "df = pd.read_csv('train.csv')\n",
    "target = pd.read_csv('target.csv')\n",
    "df.head()"
   ]
  },
  {
   "cell_type": "code",
   "execution_count": 10,
   "id": "0fca8b30",
   "metadata": {},
   "outputs": [
    {
     "data": {
      "text/plain": [
       "coppaRisk\n",
       "False        6304\n",
       "True          696\n",
       "Name: count, dtype: int64"
      ]
     },
     "execution_count": 10,
     "metadata": {},
     "output_type": "execute_result"
    }
   ],
   "source": [
    "target.value_counts()"
   ]
  },
  {
   "cell_type": "code",
   "execution_count": 14,
   "id": "dcb3fd41",
   "metadata": {},
   "outputs": [
    {
     "name": "stdout",
     "output_type": "stream",
     "text": [
      "coppaRisk\n",
      "0            6304\n",
      "1             696\n",
      "Name: count, dtype: int64\n",
      "(7000, 16)\n",
      "(7000, 1)\n"
     ]
    }
   ],
   "source": [
    "target.replace({False: 0, True: 1}, inplace=True)\n",
    "print(target_scaled.value_counts())\n",
    "print(df.shape)\n",
    "print(target.shape)\n"
   ]
  },
  {
   "cell_type": "markdown",
   "id": "77feb65f",
   "metadata": {},
   "source": [
    "Splitting the data into training and testing data."
   ]
  },
  {
   "cell_type": "code",
   "execution_count": 13,
   "id": "306494da",
   "metadata": {},
   "outputs": [
    {
     "name": "stdout",
     "output_type": "stream",
     "text": [
      "X_train's shape: (5600, 16)\n",
      "X_test's shape: (1400, 16)\n",
      "y_train's shape: (5600, 1)\n",
      "y_test's shape: (1400, 1)\n"
     ]
    }
   ],
   "source": [
    "X_train, X_test, y_train, y_test = train_test_split(df, target, test_size=0.2, random_state=42)\n",
    "print(f\"X_train's shape: {X_train.shape}\")\n",
    "print(f\"X_test's shape: {X_test.shape}\")\n",
    "print(f\"y_train's shape: {y_train.shape}\")\n",
    "print(f\"y_test's shape: {y_test.shape}\")"
   ]
  },
  {
   "cell_type": "code",
   "execution_count": null,
   "id": "c841bcd5",
   "metadata": {},
   "outputs": [],
   "source": []
  }
 ],
 "metadata": {
  "kernelspec": {
   "display_name": "Python 3",
   "language": "python",
   "name": "python3"
  },
  "language_info": {
   "codemirror_mode": {
    "name": "ipython",
    "version": 3
   },
   "file_extension": ".py",
   "mimetype": "text/x-python",
   "name": "python",
   "nbconvert_exporter": "python",
   "pygments_lexer": "ipython3",
   "version": "3.12.3"
  }
 },
 "nbformat": 4,
 "nbformat_minor": 5
}
