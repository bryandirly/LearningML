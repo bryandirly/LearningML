{
 "cells": [
  {
   "cell_type": "markdown",
   "id": "9de0e801",
   "metadata": {},
   "source": [
    "Handling Missing Values:\n",
    "\n",
    "1. Imputation\n",
    "2. Dropping"
   ]
  },
  {
   "cell_type": "code",
   "execution_count": 26,
   "id": "e8f2f712",
   "metadata": {},
   "outputs": [],
   "source": [
    "import pandas as pd\n",
    "import matplotlib.pyplot as plt\n",
    "import seaborn as sns"
   ]
  },
  {
   "cell_type": "code",
   "execution_count": 27,
   "id": "47481133",
   "metadata": {},
   "outputs": [
    {
     "data": {
      "text/html": [
       "<div>\n",
       "<style scoped>\n",
       "    .dataframe tbody tr th:only-of-type {\n",
       "        vertical-align: middle;\n",
       "    }\n",
       "\n",
       "    .dataframe tbody tr th {\n",
       "        vertical-align: top;\n",
       "    }\n",
       "\n",
       "    .dataframe thead th {\n",
       "        text-align: right;\n",
       "    }\n",
       "</style>\n",
       "<table border=\"1\" class=\"dataframe\">\n",
       "  <thead>\n",
       "    <tr style=\"text-align: right;\">\n",
       "      <th></th>\n",
       "      <th>developerCountry</th>\n",
       "      <th>countryCode</th>\n",
       "      <th>userRatingCount</th>\n",
       "      <th>primaryGenreName</th>\n",
       "      <th>downloads</th>\n",
       "      <th>deviceType</th>\n",
       "      <th>hasPrivacyLink</th>\n",
       "      <th>hasTermsOfServiceLink</th>\n",
       "      <th>hasTermsOfServiceLinkRating</th>\n",
       "      <th>isCorporateEmailScore</th>\n",
       "      <th>adSpent</th>\n",
       "      <th>appAge</th>\n",
       "      <th>averageUserRating</th>\n",
       "      <th>appContentBrandSafetyRating</th>\n",
       "      <th>appDescriptionBrandSafetyRating</th>\n",
       "      <th>mfaRating</th>\n",
       "    </tr>\n",
       "  </thead>\n",
       "  <tbody>\n",
       "    <tr>\n",
       "      <th>0</th>\n",
       "      <td>NORWAY</td>\n",
       "      <td>RO</td>\n",
       "      <td>127731</td>\n",
       "      <td>Sports</td>\n",
       "      <td>NaN</td>\n",
       "      <td>smartphone</td>\n",
       "      <td>True</td>\n",
       "      <td>True</td>\n",
       "      <td>low</td>\n",
       "      <td>99.0</td>\n",
       "      <td>14.017220</td>\n",
       "      <td>160.400000</td>\n",
       "      <td>4.0</td>\n",
       "      <td>medium</td>\n",
       "      <td>low</td>\n",
       "      <td>low</td>\n",
       "    </tr>\n",
       "    <tr>\n",
       "      <th>1</th>\n",
       "      <td>ADDRESS NOT LISTED IN PLAYSTORE</td>\n",
       "      <td>GLOBAL</td>\n",
       "      <td>0</td>\n",
       "      <td>Medical</td>\n",
       "      <td>50 - 100</td>\n",
       "      <td>GLOBAL</td>\n",
       "      <td>True</td>\n",
       "      <td>NaN</td>\n",
       "      <td>NaN</td>\n",
       "      <td>99.0</td>\n",
       "      <td>NaN</td>\n",
       "      <td>17.500000</td>\n",
       "      <td>0.0</td>\n",
       "      <td>NaN</td>\n",
       "      <td>low</td>\n",
       "      <td>low</td>\n",
       "    </tr>\n",
       "    <tr>\n",
       "      <th>2</th>\n",
       "      <td>UNITED ARAB EMIRATES</td>\n",
       "      <td>CZ</td>\n",
       "      <td>51143</td>\n",
       "      <td>Games</td>\n",
       "      <td>50000000 - 100000000</td>\n",
       "      <td>GLOBAL</td>\n",
       "      <td>True</td>\n",
       "      <td>True</td>\n",
       "      <td>low</td>\n",
       "      <td>0.0</td>\n",
       "      <td>31.883163</td>\n",
       "      <td>30.766667</td>\n",
       "      <td>4.0</td>\n",
       "      <td>NaN</td>\n",
       "      <td>low</td>\n",
       "      <td>low</td>\n",
       "    </tr>\n",
       "    <tr>\n",
       "      <th>3</th>\n",
       "      <td>GERMANY</td>\n",
       "      <td>GLOBAL</td>\n",
       "      <td>1074</td>\n",
       "      <td>Games</td>\n",
       "      <td>NaN</td>\n",
       "      <td>GLOBAL</td>\n",
       "      <td>True</td>\n",
       "      <td>NaN</td>\n",
       "      <td>NaN</td>\n",
       "      <td>99.0</td>\n",
       "      <td>NaN</td>\n",
       "      <td>71.533333</td>\n",
       "      <td>4.0</td>\n",
       "      <td>NaN</td>\n",
       "      <td>low</td>\n",
       "      <td>low</td>\n",
       "    </tr>\n",
       "    <tr>\n",
       "      <th>4</th>\n",
       "      <td>CANNOT IDENTIFY COUNTRY</td>\n",
       "      <td>GLOBAL</td>\n",
       "      <td>17</td>\n",
       "      <td>Tools</td>\n",
       "      <td>1000 - 5000</td>\n",
       "      <td>GLOBAL</td>\n",
       "      <td>True</td>\n",
       "      <td>NaN</td>\n",
       "      <td>NaN</td>\n",
       "      <td>99.0</td>\n",
       "      <td>NaN</td>\n",
       "      <td>52.400000</td>\n",
       "      <td>4.0</td>\n",
       "      <td>NaN</td>\n",
       "      <td>low</td>\n",
       "      <td>low</td>\n",
       "    </tr>\n",
       "  </tbody>\n",
       "</table>\n",
       "</div>"
      ],
      "text/plain": [
       "                  developerCountry countryCode  userRatingCount  \\\n",
       "0                           NORWAY          RO           127731   \n",
       "1  ADDRESS NOT LISTED IN PLAYSTORE      GLOBAL                0   \n",
       "2             UNITED ARAB EMIRATES          CZ            51143   \n",
       "3                          GERMANY      GLOBAL             1074   \n",
       "4          CANNOT IDENTIFY COUNTRY      GLOBAL               17   \n",
       "\n",
       "  primaryGenreName             downloads  deviceType hasPrivacyLink  \\\n",
       "0           Sports                   NaN  smartphone           True   \n",
       "1          Medical              50 - 100      GLOBAL           True   \n",
       "2            Games  50000000 - 100000000      GLOBAL           True   \n",
       "3            Games                   NaN      GLOBAL           True   \n",
       "4            Tools           1000 - 5000      GLOBAL           True   \n",
       "\n",
       "  hasTermsOfServiceLink hasTermsOfServiceLinkRating  isCorporateEmailScore  \\\n",
       "0                  True                         low                   99.0   \n",
       "1                   NaN                         NaN                   99.0   \n",
       "2                  True                         low                    0.0   \n",
       "3                   NaN                         NaN                   99.0   \n",
       "4                   NaN                         NaN                   99.0   \n",
       "\n",
       "     adSpent      appAge  averageUserRating appContentBrandSafetyRating  \\\n",
       "0  14.017220  160.400000                4.0                      medium   \n",
       "1        NaN   17.500000                0.0                         NaN   \n",
       "2  31.883163   30.766667                4.0                         NaN   \n",
       "3        NaN   71.533333                4.0                         NaN   \n",
       "4        NaN   52.400000                4.0                         NaN   \n",
       "\n",
       "  appDescriptionBrandSafetyRating mfaRating  \n",
       "0                             low       low  \n",
       "1                             low       low  \n",
       "2                             low       low  \n",
       "3                             low       low  \n",
       "4                             low       low  "
      ]
     },
     "execution_count": 27,
     "metadata": {},
     "output_type": "execute_result"
    }
   ],
   "source": [
    "df = pd.read_csv('train.csv')\n",
    "numerical_columns = df.select_dtypes(include=['float64', 'int64']).columns\n",
    "df.head()"
   ]
  },
  {
   "cell_type": "code",
   "execution_count": 28,
   "id": "ae259b60",
   "metadata": {},
   "outputs": [
    {
     "name": "stdout",
     "output_type": "stream",
     "text": [
      "userRatingCount          0.000000\n",
      "isCorporateEmailScore    0.161143\n",
      "adSpent                  0.811286\n",
      "appAge                   0.007143\n",
      "averageUserRating        0.176000\n",
      "dtype: float64\n"
     ]
    },
    {
     "data": {
      "text/plain": [
       "userRatingCount             0\n",
       "isCorporateEmailScore    1128\n",
       "adSpent                  5679\n",
       "appAge                     50\n",
       "averageUserRating        1232\n",
       "dtype: int64"
      ]
     },
     "execution_count": 28,
     "metadata": {},
     "output_type": "execute_result"
    }
   ],
   "source": [
    "print(df[numerical_columns].isnull().mean())\n",
    "df[numerical_columns].isnull().sum()"
   ]
  },
  {
   "cell_type": "markdown",
   "id": "9040bf8d",
   "metadata": {},
   "source": [
    "Dropping is usually not ideal method (unless the amount of missing data is not significant compared to the amount the whole data), imputatation is using proper statistical values to replace the missing values.\n",
    "\n",
    "Central Tendencies:\n",
    "1. Mean\n",
    "2. Median\n",
    "3. Mode"
   ]
  },
  {
   "cell_type": "code",
   "execution_count": 29,
   "id": "0f63f3c7",
   "metadata": {},
   "outputs": [
    {
     "data": {
      "text/plain": [
       "<seaborn.axisgrid.FacetGrid at 0x19b13bed4c0>"
      ]
     },
     "execution_count": 29,
     "metadata": {},
     "output_type": "execute_result"
    },
    {
     "data": {
      "image/png": "[encoded data removed]",
      "text/plain": [
       "<Figure size 800x800 with 1 Axes>"
      ]
     },
     "metadata": {},
     "output_type": "display_data"
    },
    {
     "data": {
      "image/png": "[encoded data removed]",
      "text/plain": [
       "<Figure size 500x500 with 1 Axes>"
      ]
     },
     "metadata": {},
     "output_type": "display_data"
    }
   ],
   "source": [
    "# Analyze the distribution of data in the numerical columns\n",
    "fig, ax = plt.subplots(figsize=(8, 8))\n",
    "sns.displot(df['isCorporateEmailScore'])"
   ]
  },
  {
   "cell_type": "code",
   "execution_count": 30,
   "id": "fbb8c75b",
   "metadata": {},
   "outputs": [
    {
     "name": "stderr",
     "output_type": "stream",
     "text": [
      "C:\\Users\\Lily\\AppData\\Local\\Temp\\ipykernel_15352\\1416960671.py:2: FutureWarning: A value is trying to be set on a copy of a DataFrame or Series through chained assignment using an inplace method.\n",
      "The behavior will change in pandas 3.0. This inplace method will never work because the intermediate object on which we are setting values always behaves as a copy.\n",
      "\n",
      "For example, when doing 'df[col].method(value, inplace=True)', try using 'df.method({col: value}, inplace=True)' or df[col] = df[col].method(value) instead, to perform the operation inplace on the original object.\n",
      "\n",
      "\n",
      "  df['isCorporateEmailScore'].fillna(df['isCorporateEmailScore'].median(), inplace=True)\n"
     ]
    }
   ],
   "source": [
    "# Replacing missing values with the median of the column\n",
    "df['isCorporateEmailScore'].fillna(df['isCorporateEmailScore'].median(), inplace=True)"
   ]
  },
  {
   "cell_type": "code",
   "execution_count": 31,
   "id": "5f9491e2",
   "metadata": {},
   "outputs": [
    {
     "data": {
      "text/plain": [
       "userRatingCount             0\n",
       "isCorporateEmailScore       0\n",
       "adSpent                  5679\n",
       "appAge                     50\n",
       "averageUserRating        1232\n",
       "dtype: int64"
      ]
     },
     "execution_count": 31,
     "metadata": {},
     "output_type": "execute_result"
    }
   ],
   "source": [
    "df[numerical_columns].isnull().sum()"
   ]
  },
  {
   "cell_type": "markdown",
   "id": "bb4e437f",
   "metadata": {},
   "source": [
    "Dropping method"
   ]
  },
  {
   "cell_type": "code",
   "execution_count": null,
   "id": "2a74b364",
   "metadata": {},
   "outputs": [],
   "source": [
    "# Dropping missing values in 'appAge' column\n",
    "df.dropna(how='any', subset=['appAge'], inplace=True)"
   ]
  },
  {
   "cell_type": "code",
   "execution_count": 33,
   "id": "42bea74c",
   "metadata": {},
   "outputs": [
    {
     "data": {
      "text/plain": [
       "userRatingCount             0\n",
       "isCorporateEmailScore       0\n",
       "adSpent                  5638\n",
       "appAge                      0\n",
       "averageUserRating        1227\n",
       "dtype: int64"
      ]
     },
     "execution_count": 33,
     "metadata": {},
     "output_type": "execute_result"
    }
   ],
   "source": [
    "df[numerical_columns].isnull().sum()"
   ]
  },
  {
   "cell_type": "code",
   "execution_count": null,
   "id": "826a38f0",
   "metadata": {},
   "outputs": [],
   "source": []
  }
 ],
 "metadata": {
  "kernelspec": {
   "display_name": "Python 3",
   "language": "python",
   "name": "python3"
  },
  "language_info": {
   "codemirror_mode": {
    "name": "ipython",
    "version": 3
   },
   "file_extension": ".py",
   "mimetype": "text/x-python",
   "name": "python",
   "nbconvert_exporter": "python",
   "pygments_lexer": "ipython3",
   "version": "3.12.3"
  }
 },
 "nbformat": 4,
 "nbformat_minor": 5
}
