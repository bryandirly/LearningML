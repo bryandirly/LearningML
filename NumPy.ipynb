{
 "cells": [
  {
   "cell_type": "markdown",
   "id": "e1353196",
   "metadata": {},
   "source": [
    "Numpy --> Numerical Python\n",
    "\n",
    "Why use Numpy?\n",
    "\n",
    "1. Really helpful in doing mathematical operations\n",
    "2. Time taken is more efficient compared to normal python features\n",
    "\n",
    "Selengkapnya bisa dicari di Numpy Documentation"
   ]
  },
  {
   "cell_type": "code",
   "execution_count": 10,
   "id": "16bf8719",
   "metadata": {},
   "outputs": [],
   "source": [
    "import numpy as np"
   ]
  },
  {
   "cell_type": "markdown",
   "id": "daae0ae8",
   "metadata": {},
   "source": [
    "List vs Numpy - Time Taken"
   ]
  },
  {
   "cell_type": "code",
   "execution_count": 11,
   "id": "8dfc89e8",
   "metadata": {},
   "outputs": [],
   "source": [
    "from time import process_time"
   ]
  },
  {
   "cell_type": "markdown",
   "id": "cfa58bd2",
   "metadata": {},
   "source": [
    "Time taken by a List"
   ]
  },
  {
   "cell_type": "code",
   "execution_count": 14,
   "id": "b35df727",
   "metadata": {},
   "outputs": [
    {
     "name": "stdout",
     "output_type": "stream",
     "text": [
      "Time taken to double each element in the list: 0.078125 seconds\n"
     ]
    }
   ],
   "source": [
    "python_list = list(range(1000000))\n",
    "\n",
    "start_time = process_time()\n",
    "\n",
    "python_list = [x+5 for x in python_list]\n",
    "\n",
    "end_time = process_time()\n",
    "\n",
    "print(f\"Time taken to double each element in the list: {end_time - start_time} seconds\")"
   ]
  },
  {
   "cell_type": "markdown",
   "id": "0e8b5dd5",
   "metadata": {},
   "source": [
    "Time taken by Numpy"
   ]
  },
  {
   "cell_type": "code",
   "execution_count": 15,
   "id": "384a4cca",
   "metadata": {},
   "outputs": [
    {
     "name": "stdout",
     "output_type": "stream",
     "text": [
      "Time taken to double each element in the NumPy array: 0.0 seconds\n"
     ]
    }
   ],
   "source": [
    "np_array = np.arange(1000000)\n",
    "\n",
    "start_time = process_time()\n",
    "\n",
    "np_array += 5\n",
    "\n",
    "end_time = process_time()\n",
    "\n",
    "print(f\"Time taken to double each element in the NumPy array: {end_time - start_time} seconds\")"
   ]
  },
  {
   "cell_type": "markdown",
   "id": "7348cb05",
   "metadata": {},
   "source": [
    "Numpy Arrays"
   ]
  },
  {
   "cell_type": "code",
   "execution_count": 16,
   "id": "8a6d1bd3",
   "metadata": {},
   "outputs": [
    {
     "name": "stdout",
     "output_type": "stream",
     "text": [
      "List: [1, 2, 3, 4, 5]\n"
     ]
    },
    {
     "data": {
      "text/plain": [
       "list"
      ]
     },
     "execution_count": 16,
     "metadata": {},
     "output_type": "execute_result"
    }
   ],
   "source": [
    "#List\n",
    "list1 = [1, 2, 3, 4, 5]\n",
    "print(\"List:\", list1)\n",
    "type(list1)"
   ]
  },
  {
   "cell_type": "code",
   "execution_count": 17,
   "id": "f8a17663",
   "metadata": {},
   "outputs": [
    {
     "name": "stdout",
     "output_type": "stream",
     "text": [
      "NumPy Array: [1 2 3 4 5]\n"
     ]
    },
    {
     "data": {
      "text/plain": [
       "numpy.ndarray"
      ]
     },
     "execution_count": 17,
     "metadata": {},
     "output_type": "execute_result"
    }
   ],
   "source": [
    "np_array = np.array([1, 2, 3, 4, 5])\n",
    "print(\"NumPy Array:\", np_array)\n",
    "type(np_array)"
   ]
  },
  {
   "cell_type": "code",
   "execution_count": 19,
   "id": "990dbaf5",
   "metadata": {},
   "outputs": [
    {
     "name": "stdout",
     "output_type": "stream",
     "text": [
      "(5,)\n"
     ]
    }
   ],
   "source": [
    "# Creating a 1 dim array\n",
    "a = np.array([1, 2, 3, 4, 5])\n",
    "print(a.shape)"
   ]
  },
  {
   "cell_type": "code",
   "execution_count": 24,
   "id": "3f0f49d6",
   "metadata": {},
   "outputs": [
    {
     "name": "stdout",
     "output_type": "stream",
     "text": [
      "(4, 3)\n"
     ]
    }
   ],
   "source": [
    "#Creating a multi dim array\n",
    "b = np.array([[1, 2, 3], [4, 5, 6], [7, 8, 9], [10, 11, 12]], dtype='float32')\n",
    "print(b.shape)"
   ]
  },
  {
   "cell_type": "markdown",
   "id": "1ac8e476",
   "metadata": {},
   "source": [
    "Initial Placeholders in numpy arrays"
   ]
  },
  {
   "cell_type": "code",
   "execution_count": 27,
   "id": "2062bf13",
   "metadata": {},
   "outputs": [
    {
     "data": {
      "text/plain": [
       "array([[0., 0., 0., 0.],\n",
       "       [0., 0., 0., 0.],\n",
       "       [0., 0., 0., 0.]])"
      ]
     },
     "execution_count": 27,
     "metadata": {},
     "output_type": "execute_result"
    }
   ],
   "source": [
    "# Create a numpy array with zeros\n",
    "c = np.zeros((3, 4))\n",
    "c"
   ]
  },
  {
   "cell_type": "code",
   "execution_count": 28,
   "id": "3cf43366",
   "metadata": {},
   "outputs": [
    {
     "data": {
      "text/plain": [
       "array([[1., 1., 1., 1.],\n",
       "       [1., 1., 1., 1.],\n",
       "       [1., 1., 1., 1.]])"
      ]
     },
     "execution_count": 28,
     "metadata": {},
     "output_type": "execute_result"
    }
   ],
   "source": [
    "# Create a numpy array with ones\n",
    "d = np.ones((3, 4))\n",
    "d"
   ]
  },
  {
   "cell_type": "code",
   "execution_count": 29,
   "id": "d25b3c44",
   "metadata": {},
   "outputs": [
    {
     "data": {
      "text/plain": [
       "array([[7, 7, 7, 7],\n",
       "       [7, 7, 7, 7],\n",
       "       [7, 7, 7, 7]])"
      ]
     },
     "execution_count": 29,
     "metadata": {},
     "output_type": "execute_result"
    }
   ],
   "source": [
    "# Create array of particular value\n",
    "e = np.full((3, 4), 7)\n",
    "e"
   ]
  },
  {
   "cell_type": "code",
   "execution_count": 30,
   "id": "1a6938fd",
   "metadata": {},
   "outputs": [
    {
     "data": {
      "text/plain": [
       "array([[1., 0., 0.],\n",
       "       [0., 1., 0.],\n",
       "       [0., 0., 1.]])"
      ]
     },
     "execution_count": 30,
     "metadata": {},
     "output_type": "execute_result"
    }
   ],
   "source": [
    "# Create an identity matrix\n",
    "f = np.eye(3)\n",
    "f"
   ]
  },
  {
   "cell_type": "code",
   "execution_count": null,
   "id": "602b8713",
   "metadata": {},
   "outputs": [
    {
     "data": {
      "text/plain": [
       "array([[0.2199136 , 0.48701088, 0.36559973, 0.55826918],\n",
       "       [0.44227586, 0.64403158, 0.81361703, 0.93145837],\n",
       "       [0.52505768, 0.62920431, 0.66668649, 0.54030607]])"
      ]
     },
     "execution_count": 34,
     "metadata": {},
     "output_type": "execute_result"
    }
   ],
   "source": [
    "# Create an array with random values\n",
    "g = np.random.random((3, 4)) # The value only between 0 and 1\n",
    "g"
   ]
  },
  {
   "cell_type": "code",
   "execution_count": 36,
   "id": "fc79d07d",
   "metadata": {},
   "outputs": [
    {
     "data": {
      "text/plain": [
       "array([[8, 4, 5, 2],\n",
       "       [9, 7, 0, 0],\n",
       "       [0, 6, 5, 0]])"
      ]
     },
     "execution_count": 36,
     "metadata": {},
     "output_type": "execute_result"
    }
   ],
   "source": [
    "# Random integer values array within a specific range\n",
    "h = np.random.randint(0, 10, (3, 4)) # The value between 0 and 10\n",
    "h"
   ]
  },
  {
   "cell_type": "code",
   "execution_count": null,
   "id": "91c42483",
   "metadata": {},
   "outputs": [
    {
     "name": "stdout",
     "output_type": "stream",
     "text": [
      "[0 2 4 6 8]\n"
     ]
    }
   ],
   "source": [
    "# Array of evenly spaced values --> specifying the number of step\n",
    "i = np.arange(0, 10, 2) # Start, stop (not included), step\n",
    "print(i)"
   ]
  },
  {
   "cell_type": "code",
   "execution_count": 38,
   "id": "cf7ebfb6",
   "metadata": {},
   "outputs": [
    {
     "name": "stdout",
     "output_type": "stream",
     "text": [
      "[ 0.   2.5  5.   7.5 10. ]\n"
     ]
    }
   ],
   "source": [
    "# Array of evenly spaced values --> specifying the number of elements\n",
    "j = np.linspace(0, 10, 5) # Start, stop, number of elements\n",
    "print(j)"
   ]
  },
  {
   "cell_type": "code",
   "execution_count": 41,
   "id": "6b13329c",
   "metadata": {},
   "outputs": [
    {
     "name": "stdout",
     "output_type": "stream",
     "text": [
      "NumPy Array from List: [ 1  2  3  4  5  6  7  8  9 10 11 12 13 14 15]\n",
      "<class 'numpy.ndarray'>\n",
      "List from NumPy Array: [1, 2, 3, 4, 5, 6, 7, 8, 9, 10, 11, 12, 13, 14, 15]\n",
      "<class 'list'>\n"
     ]
    }
   ],
   "source": [
    "# Convert a list to a numpy array\n",
    "list2 = [1, 2, 3, 4, 5, 6, 7, 8, 9, 10, 11, 12, 13, 14, 15]\n",
    "\n",
    "np_array_from_list = np.asarray(list2)\n",
    "print(\"NumPy Array from List:\", np_array_from_list)\n",
    "print(type(np_array_from_list))\n",
    "\n",
    "# Convert a numpy array to a list\n",
    "np_array_to_list = np_array_from_list.tolist()\n",
    "print(\"List from NumPy Array:\", np_array_to_list)\n",
    "print(type(np_array_to_list))"
   ]
  },
  {
   "cell_type": "markdown",
   "id": "207b71f5",
   "metadata": {},
   "source": [
    "Analysing Numpy array"
   ]
  },
  {
   "cell_type": "code",
   "execution_count": 47,
   "id": "796d7521",
   "metadata": {},
   "outputs": [],
   "source": [
    "k = np.random.randint(0, 90, (5, 5, 5))"
   ]
  },
  {
   "cell_type": "code",
   "execution_count": 48,
   "id": "3d3e1598",
   "metadata": {},
   "outputs": [
    {
     "name": "stdout",
     "output_type": "stream",
     "text": [
      "shape: (5, 5, 5)\n",
      "size: 125\n",
      "ndim: 3\n",
      "dtype: int32\n"
     ]
    }
   ],
   "source": [
    "print(f\"shape: {k.shape}\")\n",
    "print(f\"size: {k.size}\")\n",
    "print(f\"ndim: {k.ndim}\")\n",
    "print(f\"dtype: {k.dtype}\")"
   ]
  },
  {
   "cell_type": "markdown",
   "id": "5b299f02",
   "metadata": {},
   "source": [
    "Mathematical Operation on np array"
   ]
  },
  {
   "cell_type": "code",
   "execution_count": 49,
   "id": "00ae7c4d",
   "metadata": {},
   "outputs": [
    {
     "name": "stdout",
     "output_type": "stream",
     "text": [
      "[1, 2, 3, 4, 5, 6, 7, 8, 9, 10]\n"
     ]
    }
   ],
   "source": [
    "list1 = [1, 2, 3, 4, 5]\n",
    "list2 = [6, 7, 8, 9, 10]\n",
    "\n",
    "print(list1 + list2)  # Concatenation of lists"
   ]
  },
  {
   "cell_type": "code",
   "execution_count": 52,
   "id": "64752324",
   "metadata": {},
   "outputs": [
    {
     "name": "stdout",
     "output_type": "stream",
     "text": [
      "[ 7  9 11 13 15]\n",
      "[ 6 14 24 36 50]\n",
      "[-5 -5 -5 -5 -5]\n",
      "[0.16666667 0.28571429 0.375      0.44444444 0.5       ]\n",
      "[      1     128    6561  262144 9765625]\n",
      "130\n"
     ]
    }
   ],
   "source": [
    "np_array1 = np.array([1, 2, 3, 4, 5])\n",
    "np_array2 = np.array([6, 7, 8, 9, 10])\n",
    "\n",
    "print(np_array1 + np_array2)  # Element-wise addition of NumPy arrays\n",
    "print(np_array1 * np_array2)  # Element-wise multiplication of NumPy arrays\n",
    "print(np_array1 - np_array2)  # Element-wise subtraction of NumPy arrays\n",
    "print(np_array1 / np_array2)  # Element-wise division of NumPy arrays\n",
    "print(np_array1 ** np_array2)  # Element-wise squaring of NumPy array\n",
    "print(np_array1 @ np_array2)  # Dot product of NumPy arrays"
   ]
  }
 ],
 "metadata": {
  "kernelspec": {
   "display_name": "Python 3",
   "language": "python",
   "name": "python3"
  },
  "language_info": {
   "codemirror_mode": {
    "name": "ipython",
    "version": 3
   },
   "file_extension": ".py",
   "mimetype": "text/x-python",
   "name": "python",
   "nbconvert_exporter": "python",
   "pygments_lexer": "ipython3",
   "version": "3.12.3"
  }
 },
 "nbformat": 4,
 "nbformat_minor": 5
}
